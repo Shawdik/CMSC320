{
  "cells": [
    {
      "cell_type": "markdown",
      "metadata": {
        "id": "icX_TgUyDu6d"
      },
      "source": [
        "# Homework 6\n",
        "\n",
        "For this homework, you'll be looking at the survey data gathered from the last exam. For each cell, answer the question either with code or text, as specified.\n",
        "\n",
        "The data is here: https://drive.google.com/file/d/1-0d9sGptmBTbzf4jRGYDE8pWwxz0d-0z/view?usp=sharing\n",
        "\n",
        "Copy this notebook, fill it out, and then submit it.\n"
      ]
    },
    {
      "cell_type": "markdown",
      "metadata": {
        "id": "6Tf-_X-rEAuk"
      },
      "source": [
        "# Question 1\n",
        "\n",
        "Write code to load in the data in a dataframe."
      ]
    },
    {
      "cell_type": "code",
      "execution_count": 159,
      "metadata": {
        "id": "obj5fo5cEGna"
      },
      "outputs": [
        {
          "data": {
            "text/html": [
              "<div>\n",
              "<style scoped>\n",
              "    .dataframe tbody tr th:only-of-type {\n",
              "        vertical-align: middle;\n",
              "    }\n",
              "\n",
              "    .dataframe tbody tr th {\n",
              "        vertical-align: top;\n",
              "    }\n",
              "\n",
              "    .dataframe thead th {\n",
              "        text-align: right;\n",
              "    }\n",
              "</style>\n",
              "<table border=\"1\" class=\"dataframe\">\n",
              "  <thead>\n",
              "    <tr style=\"text-align: right;\">\n",
              "      <th></th>\n",
              "      <th>Time</th>\n",
              "      <th>Hours_Studied</th>\n",
              "      <th>Friend</th>\n",
              "      <th>Fair</th>\n",
              "      <th>Lectures</th>\n",
              "      <th>Assignments</th>\n",
              "      <th>Sleep</th>\n",
              "      <th>XP</th>\n",
              "      <th>Class</th>\n",
              "      <th>Grade</th>\n",
              "      <th>Mystery</th>\n",
              "    </tr>\n",
              "  </thead>\n",
              "  <tbody>\n",
              "    <tr>\n",
              "      <th>0</th>\n",
              "      <td>4:45:00 PM</td>\n",
              "      <td>4.0</td>\n",
              "      <td>No</td>\n",
              "      <td>Yes</td>\n",
              "      <td>Yes</td>\n",
              "      <td>Yes</td>\n",
              "      <td>7.0</td>\n",
              "      <td>No</td>\n",
              "      <td>Yes</td>\n",
              "      <td>66.509746</td>\n",
              "      <td>30.644589</td>\n",
              "    </tr>\n",
              "    <tr>\n",
              "      <th>1</th>\n",
              "      <td>4:45:14 PM</td>\n",
              "      <td>4.0</td>\n",
              "      <td>Yes</td>\n",
              "      <td>Kinda</td>\n",
              "      <td>Kinda</td>\n",
              "      <td>Kinda</td>\n",
              "      <td>3.0</td>\n",
              "      <td>No</td>\n",
              "      <td>Yes</td>\n",
              "      <td>73.447272</td>\n",
              "      <td>37.825654</td>\n",
              "    </tr>\n",
              "    <tr>\n",
              "      <th>2</th>\n",
              "      <td>4:40:00 PM</td>\n",
              "      <td>4.0</td>\n",
              "      <td>Yes</td>\n",
              "      <td>Yes</td>\n",
              "      <td>No</td>\n",
              "      <td>Yes</td>\n",
              "      <td>8.0</td>\n",
              "      <td>No</td>\n",
              "      <td>Yes</td>\n",
              "      <td>61.562473</td>\n",
              "      <td>32.678616</td>\n",
              "    </tr>\n",
              "    <tr>\n",
              "      <th>3</th>\n",
              "      <td>4:45:00 PM</td>\n",
              "      <td>7.0</td>\n",
              "      <td>No</td>\n",
              "      <td>Yes</td>\n",
              "      <td>No</td>\n",
              "      <td>No</td>\n",
              "      <td>8.0</td>\n",
              "      <td>No</td>\n",
              "      <td>Yes</td>\n",
              "      <td>53.426324</td>\n",
              "      <td>30.805367</td>\n",
              "    </tr>\n",
              "    <tr>\n",
              "      <th>4</th>\n",
              "      <td>4:45:55 PM</td>\n",
              "      <td>2.0</td>\n",
              "      <td>No</td>\n",
              "      <td>Yes</td>\n",
              "      <td>Yes</td>\n",
              "      <td>Yes</td>\n",
              "      <td>6.0</td>\n",
              "      <td>Yes</td>\n",
              "      <td>Yes</td>\n",
              "      <td>79.710070</td>\n",
              "      <td>40.256162</td>\n",
              "    </tr>\n",
              "    <tr>\n",
              "      <th>5</th>\n",
              "      <td>4:45:00 PM</td>\n",
              "      <td>4.0</td>\n",
              "      <td>No</td>\n",
              "      <td>Yes</td>\n",
              "      <td>Yes</td>\n",
              "      <td>Yes</td>\n",
              "      <td>8.0</td>\n",
              "      <td>Yes</td>\n",
              "      <td>No</td>\n",
              "      <td>42.375326</td>\n",
              "      <td>22.244835</td>\n",
              "    </tr>\n",
              "    <tr>\n",
              "      <th>6</th>\n",
              "      <td>4:46:07 PM</td>\n",
              "      <td>6.0</td>\n",
              "      <td>No</td>\n",
              "      <td>Kinda</td>\n",
              "      <td>Yes</td>\n",
              "      <td>No</td>\n",
              "      <td>5.0</td>\n",
              "      <td>No</td>\n",
              "      <td>Yes</td>\n",
              "      <td>62.747236</td>\n",
              "      <td>34.910625</td>\n",
              "    </tr>\n",
              "    <tr>\n",
              "      <th>7</th>\n",
              "      <td>4:44:00 PM</td>\n",
              "      <td>3.5</td>\n",
              "      <td>Yes</td>\n",
              "      <td>Yes</td>\n",
              "      <td>Yes</td>\n",
              "      <td>Yes</td>\n",
              "      <td>8.0</td>\n",
              "      <td>No</td>\n",
              "      <td>Yes</td>\n",
              "      <td>56.458508</td>\n",
              "      <td>30.127659</td>\n",
              "    </tr>\n",
              "    <tr>\n",
              "      <th>8</th>\n",
              "      <td>4:40:00 PM</td>\n",
              "      <td>5.0</td>\n",
              "      <td>Kinda</td>\n",
              "      <td>No</td>\n",
              "      <td>No</td>\n",
              "      <td>No</td>\n",
              "      <td>8.0</td>\n",
              "      <td>Kinda</td>\n",
              "      <td>Yes</td>\n",
              "      <td>63.504784</td>\n",
              "      <td>31.478506</td>\n",
              "    </tr>\n",
              "    <tr>\n",
              "      <th>9</th>\n",
              "      <td>4:44:00 PM</td>\n",
              "      <td>4.0</td>\n",
              "      <td>Yes</td>\n",
              "      <td>Yes</td>\n",
              "      <td>Yes</td>\n",
              "      <td>Yes</td>\n",
              "      <td>6.0</td>\n",
              "      <td>No</td>\n",
              "      <td>Yes</td>\n",
              "      <td>54.583668</td>\n",
              "      <td>32.185372</td>\n",
              "    </tr>\n",
              "    <tr>\n",
              "      <th>10</th>\n",
              "      <td>4:45:45 PM</td>\n",
              "      <td>20.0</td>\n",
              "      <td>No</td>\n",
              "      <td>No</td>\n",
              "      <td>No</td>\n",
              "      <td>Yes</td>\n",
              "      <td>8.0</td>\n",
              "      <td>Yes</td>\n",
              "      <td>Yes</td>\n",
              "      <td>69.665524</td>\n",
              "      <td>35.263553</td>\n",
              "    </tr>\n",
              "    <tr>\n",
              "      <th>11</th>\n",
              "      <td>4:45:00 PM</td>\n",
              "      <td>4.0</td>\n",
              "      <td>Yes</td>\n",
              "      <td>No</td>\n",
              "      <td>No</td>\n",
              "      <td>Kinda</td>\n",
              "      <td>5.5</td>\n",
              "      <td>No</td>\n",
              "      <td>Yes</td>\n",
              "      <td>63.449086</td>\n",
              "      <td>33.711455</td>\n",
              "    </tr>\n",
              "    <tr>\n",
              "      <th>12</th>\n",
              "      <td>4:42:37 PM</td>\n",
              "      <td>8.0</td>\n",
              "      <td>Yes</td>\n",
              "      <td>Yes</td>\n",
              "      <td>Yes</td>\n",
              "      <td>Yes</td>\n",
              "      <td>8.0</td>\n",
              "      <td>No</td>\n",
              "      <td>Yes</td>\n",
              "      <td>59.439423</td>\n",
              "      <td>32.046820</td>\n",
              "    </tr>\n",
              "    <tr>\n",
              "      <th>13</th>\n",
              "      <td>4:47:00 PM</td>\n",
              "      <td>5.0</td>\n",
              "      <td>Yes</td>\n",
              "      <td>Yes</td>\n",
              "      <td>Kinda</td>\n",
              "      <td>Kinda</td>\n",
              "      <td>8.0</td>\n",
              "      <td>Kinda</td>\n",
              "      <td>Yes</td>\n",
              "      <td>66.631404</td>\n",
              "      <td>33.222474</td>\n",
              "    </tr>\n",
              "    <tr>\n",
              "      <th>14</th>\n",
              "      <td>4:37:00 PM</td>\n",
              "      <td>6.0</td>\n",
              "      <td>Yes</td>\n",
              "      <td>Yes</td>\n",
              "      <td>No</td>\n",
              "      <td>Yes</td>\n",
              "      <td>6.0</td>\n",
              "      <td>Yes</td>\n",
              "      <td>Yes</td>\n",
              "      <td>67.440010</td>\n",
              "      <td>34.923238</td>\n",
              "    </tr>\n",
              "    <tr>\n",
              "      <th>15</th>\n",
              "      <td>4:45:00 PM</td>\n",
              "      <td>3.0</td>\n",
              "      <td>Yes</td>\n",
              "      <td>Yes</td>\n",
              "      <td>Kinda</td>\n",
              "      <td>Yes</td>\n",
              "      <td>8.0</td>\n",
              "      <td>No</td>\n",
              "      <td>Yes</td>\n",
              "      <td>60.538719</td>\n",
              "      <td>29.745913</td>\n",
              "    </tr>\n",
              "    <tr>\n",
              "      <th>16</th>\n",
              "      <td>4:35:00 PM</td>\n",
              "      <td>3.0</td>\n",
              "      <td>Kinda</td>\n",
              "      <td>Kinda</td>\n",
              "      <td>Kinda</td>\n",
              "      <td>Yes</td>\n",
              "      <td>9.0</td>\n",
              "      <td>No</td>\n",
              "      <td>Yes</td>\n",
              "      <td>71.609820</td>\n",
              "      <td>37.752437</td>\n",
              "    </tr>\n",
              "    <tr>\n",
              "      <th>17</th>\n",
              "      <td>4:48:00 PM</td>\n",
              "      <td>2.0</td>\n",
              "      <td>Yes</td>\n",
              "      <td>Kinda</td>\n",
              "      <td>Yes</td>\n",
              "      <td>Yes</td>\n",
              "      <td>7.0</td>\n",
              "      <td>No</td>\n",
              "      <td>No</td>\n",
              "      <td>62.430390</td>\n",
              "      <td>33.480954</td>\n",
              "    </tr>\n",
              "    <tr>\n",
              "      <th>18</th>\n",
              "      <td>4:45:00 PM</td>\n",
              "      <td>4.0</td>\n",
              "      <td>Yes</td>\n",
              "      <td>No</td>\n",
              "      <td>Yes</td>\n",
              "      <td>Yes</td>\n",
              "      <td>7.5</td>\n",
              "      <td>Yes</td>\n",
              "      <td>Yes</td>\n",
              "      <td>62.521184</td>\n",
              "      <td>30.975010</td>\n",
              "    </tr>\n",
              "    <tr>\n",
              "      <th>19</th>\n",
              "      <td>4:48:00 PM</td>\n",
              "      <td>2.5</td>\n",
              "      <td>No</td>\n",
              "      <td>Kinda</td>\n",
              "      <td>No</td>\n",
              "      <td>No</td>\n",
              "      <td>6.0</td>\n",
              "      <td>No</td>\n",
              "      <td>No</td>\n",
              "      <td>65.515811</td>\n",
              "      <td>31.727755</td>\n",
              "    </tr>\n",
              "    <tr>\n",
              "      <th>20</th>\n",
              "      <td>4:45:00 PM</td>\n",
              "      <td>5.0</td>\n",
              "      <td>Yes</td>\n",
              "      <td>No</td>\n",
              "      <td>Yes</td>\n",
              "      <td>No</td>\n",
              "      <td>8.0</td>\n",
              "      <td>Kinda</td>\n",
              "      <td>Yes</td>\n",
              "      <td>60.435171</td>\n",
              "      <td>29.378193</td>\n",
              "    </tr>\n",
              "    <tr>\n",
              "      <th>21</th>\n",
              "      <td>4:45:00 PM</td>\n",
              "      <td>5.0</td>\n",
              "      <td>No</td>\n",
              "      <td>Yes</td>\n",
              "      <td>Yes</td>\n",
              "      <td>Kinda</td>\n",
              "      <td>7.0</td>\n",
              "      <td>No</td>\n",
              "      <td>Yes</td>\n",
              "      <td>72.434312</td>\n",
              "      <td>38.446767</td>\n",
              "    </tr>\n",
              "    <tr>\n",
              "      <th>22</th>\n",
              "      <td>4:47:00 PM</td>\n",
              "      <td>10.0</td>\n",
              "      <td>No</td>\n",
              "      <td>Yes</td>\n",
              "      <td>Yes</td>\n",
              "      <td>Yes</td>\n",
              "      <td>7.0</td>\n",
              "      <td>No</td>\n",
              "      <td>Yes</td>\n",
              "      <td>64.316285</td>\n",
              "      <td>34.059307</td>\n",
              "    </tr>\n",
              "    <tr>\n",
              "      <th>23</th>\n",
              "      <td>4:45:00 PM</td>\n",
              "      <td>10.0</td>\n",
              "      <td>Yes</td>\n",
              "      <td>Yes</td>\n",
              "      <td>Yes</td>\n",
              "      <td>No</td>\n",
              "      <td>10.0</td>\n",
              "      <td>Yes</td>\n",
              "      <td>Yes</td>\n",
              "      <td>58.583742</td>\n",
              "      <td>30.490265</td>\n",
              "    </tr>\n",
              "    <tr>\n",
              "      <th>24</th>\n",
              "      <td>4:45:00 PM</td>\n",
              "      <td>10.5</td>\n",
              "      <td>No</td>\n",
              "      <td>Yes</td>\n",
              "      <td>Yes</td>\n",
              "      <td>No</td>\n",
              "      <td>8.0</td>\n",
              "      <td>No</td>\n",
              "      <td>Yes</td>\n",
              "      <td>69.676230</td>\n",
              "      <td>36.672940</td>\n",
              "    </tr>\n",
              "    <tr>\n",
              "      <th>25</th>\n",
              "      <td>4:45:00 PM</td>\n",
              "      <td>6.0</td>\n",
              "      <td>Yes</td>\n",
              "      <td>No</td>\n",
              "      <td>Yes</td>\n",
              "      <td>Yes</td>\n",
              "      <td>8.0</td>\n",
              "      <td>Yes</td>\n",
              "      <td>Yes</td>\n",
              "      <td>57.460200</td>\n",
              "      <td>27.208792</td>\n",
              "    </tr>\n",
              "    <tr>\n",
              "      <th>26</th>\n",
              "      <td>4:44:00 PM</td>\n",
              "      <td>10.0</td>\n",
              "      <td>Yes</td>\n",
              "      <td>Yes</td>\n",
              "      <td>Yes</td>\n",
              "      <td>Yes</td>\n",
              "      <td>4.0</td>\n",
              "      <td>Yes</td>\n",
              "      <td>Yes</td>\n",
              "      <td>72.519890</td>\n",
              "      <td>39.229912</td>\n",
              "    </tr>\n",
              "    <tr>\n",
              "      <th>27</th>\n",
              "      <td>4:45:00 PM</td>\n",
              "      <td>5.0</td>\n",
              "      <td>No</td>\n",
              "      <td>Yes</td>\n",
              "      <td>Yes</td>\n",
              "      <td>No</td>\n",
              "      <td>8.0</td>\n",
              "      <td>No</td>\n",
              "      <td>No</td>\n",
              "      <td>56.656648</td>\n",
              "      <td>28.282605</td>\n",
              "    </tr>\n",
              "    <tr>\n",
              "      <th>28</th>\n",
              "      <td>4:48:00 PM</td>\n",
              "      <td>4.0</td>\n",
              "      <td>Yes</td>\n",
              "      <td>Yes</td>\n",
              "      <td>Kinda</td>\n",
              "      <td>Kinda</td>\n",
              "      <td>7.5</td>\n",
              "      <td>No</td>\n",
              "      <td>Yes</td>\n",
              "      <td>69.340428</td>\n",
              "      <td>35.348898</td>\n",
              "    </tr>\n",
              "    <tr>\n",
              "      <th>29</th>\n",
              "      <td>4:45:00 PM</td>\n",
              "      <td>12.0</td>\n",
              "      <td>Yes</td>\n",
              "      <td>Kinda</td>\n",
              "      <td>Kinda</td>\n",
              "      <td>Kinda</td>\n",
              "      <td>6.0</td>\n",
              "      <td>No</td>\n",
              "      <td>Yes</td>\n",
              "      <td>68.571124</td>\n",
              "      <td>34.705853</td>\n",
              "    </tr>\n",
              "  </tbody>\n",
              "</table>\n",
              "</div>"
            ],
            "text/plain": [
              "          Time  Hours_Studied Friend   Fair Lectures Assignments  Sleep  \\\n",
              "0   4:45:00 PM            4.0     No    Yes      Yes         Yes    7.0   \n",
              "1   4:45:14 PM            4.0    Yes  Kinda    Kinda       Kinda    3.0   \n",
              "2   4:40:00 PM            4.0    Yes    Yes       No         Yes    8.0   \n",
              "3   4:45:00 PM            7.0     No    Yes       No          No    8.0   \n",
              "4   4:45:55 PM            2.0     No    Yes      Yes         Yes    6.0   \n",
              "5   4:45:00 PM            4.0     No    Yes      Yes         Yes    8.0   \n",
              "6   4:46:07 PM            6.0     No  Kinda      Yes          No    5.0   \n",
              "7   4:44:00 PM            3.5    Yes    Yes      Yes         Yes    8.0   \n",
              "8   4:40:00 PM            5.0  Kinda     No       No          No    8.0   \n",
              "9   4:44:00 PM            4.0    Yes    Yes      Yes         Yes    6.0   \n",
              "10  4:45:45 PM           20.0     No     No       No         Yes    8.0   \n",
              "11  4:45:00 PM            4.0    Yes     No       No       Kinda    5.5   \n",
              "12  4:42:37 PM            8.0    Yes    Yes      Yes         Yes    8.0   \n",
              "13  4:47:00 PM            5.0    Yes    Yes    Kinda       Kinda    8.0   \n",
              "14  4:37:00 PM            6.0    Yes    Yes       No         Yes    6.0   \n",
              "15  4:45:00 PM            3.0    Yes    Yes    Kinda         Yes    8.0   \n",
              "16  4:35:00 PM            3.0  Kinda  Kinda    Kinda         Yes    9.0   \n",
              "17  4:48:00 PM            2.0    Yes  Kinda      Yes         Yes    7.0   \n",
              "18  4:45:00 PM            4.0    Yes     No      Yes         Yes    7.5   \n",
              "19  4:48:00 PM            2.5     No  Kinda       No          No    6.0   \n",
              "20  4:45:00 PM            5.0    Yes     No      Yes          No    8.0   \n",
              "21  4:45:00 PM            5.0     No    Yes      Yes       Kinda    7.0   \n",
              "22  4:47:00 PM           10.0     No    Yes      Yes         Yes    7.0   \n",
              "23  4:45:00 PM           10.0    Yes    Yes      Yes          No   10.0   \n",
              "24  4:45:00 PM           10.5     No    Yes      Yes          No    8.0   \n",
              "25  4:45:00 PM            6.0    Yes     No      Yes         Yes    8.0   \n",
              "26  4:44:00 PM           10.0    Yes    Yes      Yes         Yes    4.0   \n",
              "27  4:45:00 PM            5.0     No    Yes      Yes          No    8.0   \n",
              "28  4:48:00 PM            4.0    Yes    Yes    Kinda       Kinda    7.5   \n",
              "29  4:45:00 PM           12.0    Yes  Kinda    Kinda       Kinda    6.0   \n",
              "\n",
              "       XP Class      Grade    Mystery  \n",
              "0      No   Yes  66.509746  30.644589  \n",
              "1      No   Yes  73.447272  37.825654  \n",
              "2      No   Yes  61.562473  32.678616  \n",
              "3      No   Yes  53.426324  30.805367  \n",
              "4     Yes   Yes  79.710070  40.256162  \n",
              "5     Yes    No  42.375326  22.244835  \n",
              "6      No   Yes  62.747236  34.910625  \n",
              "7      No   Yes  56.458508  30.127659  \n",
              "8   Kinda   Yes  63.504784  31.478506  \n",
              "9      No   Yes  54.583668  32.185372  \n",
              "10    Yes   Yes  69.665524  35.263553  \n",
              "11     No   Yes  63.449086  33.711455  \n",
              "12     No   Yes  59.439423  32.046820  \n",
              "13  Kinda   Yes  66.631404  33.222474  \n",
              "14    Yes   Yes  67.440010  34.923238  \n",
              "15     No   Yes  60.538719  29.745913  \n",
              "16     No   Yes  71.609820  37.752437  \n",
              "17     No    No  62.430390  33.480954  \n",
              "18    Yes   Yes  62.521184  30.975010  \n",
              "19     No    No  65.515811  31.727755  \n",
              "20  Kinda   Yes  60.435171  29.378193  \n",
              "21     No   Yes  72.434312  38.446767  \n",
              "22     No   Yes  64.316285  34.059307  \n",
              "23    Yes   Yes  58.583742  30.490265  \n",
              "24     No   Yes  69.676230  36.672940  \n",
              "25    Yes   Yes  57.460200  27.208792  \n",
              "26    Yes   Yes  72.519890  39.229912  \n",
              "27     No    No  56.656648  28.282605  \n",
              "28     No   Yes  69.340428  35.348898  \n",
              "29     No   Yes  68.571124  34.705853  "
            ]
          },
          "execution_count": 159,
          "metadata": {},
          "output_type": "execute_result"
        }
      ],
      "source": [
        "import pandas as pd\n",
        "import numpy as np\n",
        "data = pd.read_csv('MidtermSurvey_Processed.csv')\n",
        "data = data[['Time', 'Hours_Studied', 'Friend', 'Fair', 'Lectures',\n",
        "       'Assignments', 'Sleep', 'XP', 'Class', 'Grade', 'Mystery']]\n",
        "data.dropna(how='all', inplace=True)\n",
        "data\n"
      ]
    },
    {
      "cell_type": "markdown",
      "metadata": {
        "id": "mDHcdeVREHE0"
      },
      "source": [
        "# Question 2\n",
        "\n",
        "Create a column that measures, in minutes, how long each student took for their exam. Print the column at the end."
      ]
    },
    {
      "cell_type": "code",
      "execution_count": 160,
      "metadata": {
        "id": "87nz1WAjENxT"
      },
      "outputs": [
        {
          "data": {
            "text/plain": [
              "0      75.0\n",
              "1      75.0\n",
              "2      70.0\n",
              "3      75.0\n",
              "4      75.0\n",
              "       ... \n",
              "241     NaN\n",
              "242     NaN\n",
              "243     NaN\n",
              "244     NaN\n",
              "245     NaN\n",
              "Name: Minutes_Exam, Length: 246, dtype: float64"
            ]
          },
          "execution_count": 160,
          "metadata": {},
          "output_type": "execute_result"
        }
      ],
      "source": [
        "import re\n",
        "import datetime\n",
        "from datetime import datetime\n",
        "from datetime import timedelta\n",
        "from datetime import time\n",
        "start_time = datetime(2023, 11, 21, 3, 30)\n",
        "\n",
        "def get_duration(x):\n",
        "    start_time = datetime(2023, 11, 21, 3, 30)\n",
        "    x = str(x)\n",
        "    if x == 'nan':\n",
        "        return None\n",
        "    else:\n",
        "        ts = re.split(':| ', x)\n",
        "        end_time = datetime(2023, 11, 21, int(ts[0]), int(ts[1]))\n",
        "        dur = ((end_time-start_time).seconds)/60\n",
        "        return dur\n",
        "    \n",
        "\n",
        "\n",
        "data['Minutes_Exam'] = data['Time'].apply(lambda x: get_duration(x))\n",
        "data['Minutes_Exam']"
      ]
    },
    {
      "cell_type": "markdown",
      "metadata": {
        "id": "vn2AxtVKEOFx"
      },
      "source": [
        "# Question 3\n",
        "\n",
        "Create a graph, comparing the distributions of the grades of students who thought the exam was fair, kind of fair, or not fair. (Note: If you create a graph that does not do a good job visuaizing this, you will loose points. For example, if you make a pie chart somehow, the graders will have no mercy)."
      ]
    },
    {
      "cell_type": "code",
      "execution_count": 161,
      "metadata": {
        "id": "nr3V-hKVEjSg"
      },
      "outputs": [
        {
          "data": {
            "image/png": "[encoded data removed]",
            "text/plain": [
              "<Figure size 640x480 with 1 Axes>"
            ]
          },
          "metadata": {},
          "output_type": "display_data"
        }
      ],
      "source": [
        "import matplotlib.pyplot as plt\n",
        "\n",
        "data.boxplot(column='Grade', by='Fair', grid=False)\n",
        "plt.title('Distribution of Grades by Exam Fairness')\n",
        "plt.suptitle('')\n",
        "plt.ylabel('Grade')\n",
        "plt.yticks(np.arange(20, 90, 5))\n",
        "plt.xticks(ticks=[1,2,3], labels=['Kind of Fair', 'Not Fair', 'Fair'])\n",
        "plt.show()"
      ]
    },
    {
      "cell_type": "markdown",
      "metadata": {
        "id": "25iHak3TEjtq"
      },
      "source": [
        "# Question 4\n",
        "\n",
        "Do a hypothesis test to see if the distributions of students who thought the exam was fair, kinda fair, or unfair have a stastically significant difference in mean. Print your p-value."
      ]
    },
    {
      "cell_type": "code",
      "execution_count": 162,
      "metadata": {
        "id": "os32VHpnE4ol"
      },
      "outputs": [
        {
          "data": {
            "text/plain": [
              "F_onewayResult(statistic=0.1756754656214435, pvalue=0.8389966340907092)"
            ]
          },
          "execution_count": 162,
          "metadata": {},
          "output_type": "execute_result"
        }
      ],
      "source": [
        "import scipy.stats as stats\n",
        "fair = data[data['Fair'] == 'Yes']['Grade']\n",
        "kinda_fair = data[data['Fair'] == 'Kinda']['Grade']\n",
        "not_fair = data[data['Fair'] == 'No']['Grade']\n",
        "stats.f_oneway(fair, kinda_fair, not_fair)\n",
        "\n"
      ]
    },
    {
      "cell_type": "markdown",
      "metadata": {
        "id": "0ueYAh3pFdY_"
      },
      "source": [
        "# Question 5\n",
        "\n",
        "Does studying more improve your score? Find out, and summarize the results below in text format. If it does not, speculate as to why."
      ]
    },
    {
      "cell_type": "code",
      "execution_count": 163,
      "metadata": {
        "id": "sgZV3ogeFkDJ"
      },
      "outputs": [
        {
          "name": "stdout",
          "output_type": "stream",
          "text": [
            "r-value: 0.06286069182995388   p_value: 0.32615834241685104\n"
          ]
        },
        {
          "data": {
            "image/png": "[encoded data removed]",
            "text/plain": [
              "<Figure size 640x480 with 1 Axes>"
            ]
          },
          "metadata": {},
          "output_type": "display_data"
        },
        {
          "name": "stdout",
          "output_type": "stream",
          "text": [
            "r^2 value: 0.0039514665773404305\n"
          ]
        }
      ],
      "source": [
        "from sklearn.linear_model import LinearRegression\n",
        "from scipy.stats import pearsonr\n",
        "\n",
        "\n",
        "r_value, p_value = pearsonr(data['Hours_Studied'], data['Grade'])\n",
        "print(\"r-value: \"+ str(r_value)  + \"   p_value: \" + str(p_value))\n",
        "\n",
        "x = data['Hours_Studied'].values.reshape(-1,1)\n",
        "y = data['Grade'].values.reshape(-1,1)\n",
        "\n",
        "model = LinearRegression()\n",
        "model.fit(x,y)\n",
        "\n",
        "plt.scatter(data['Hours_Studied'], data['Grade'])\n",
        "plt.plot(data['Hours_Studied'], model.predict(x), color = 'red', linewidth=2)\n",
        "plt.xlabel(\"Hours Studied\")\n",
        "plt.ylabel(\"Grade\")\n",
        "plt.title(\"Hours Studied vs Grade\")\n",
        "plt.show()\n",
        "print(\"r^2 value: \" + str(r_value**2))\n"
      ]
    },
    {
      "cell_type": "markdown",
      "metadata": {},
      "source": [
        "It does not seem that studying more impacted score. \n",
        "\n",
        "From performing linear regression, we can see that the R<sup>2</sup> value = 0.00395 which suggests a very low goodness of fit for the best line of fit calculated.\n",
        "\n",
        "We can also see that the R value = 0.0629 which also suggests that there is an extremely low positive correlation between hours studied and score"
      ]
    },
    {
      "cell_type": "markdown",
      "metadata": {
        "id": "O0A92bjKE5Fa"
      },
      "source": [
        "# Question 6\n",
        "\n",
        "Make another graph based on a question you think might be interesting."
      ]
    },
    {
      "cell_type": "markdown",
      "metadata": {},
      "source": [
        "Does Mystery have an affect on Grade?"
      ]
    },
    {
      "cell_type": "code",
      "execution_count": 164,
      "metadata": {
        "id": "lYIdPf5xFBbZ"
      },
      "outputs": [
        {
          "name": "stdout",
          "output_type": "stream",
          "text": [
            "r-value: 0.915726748448787   p_value: 1.3321077128841547e-98\n"
          ]
        },
        {
          "data": {
            "image/png": "[encoded data removed]",
            "text/plain": [
              "<Figure size 640x480 with 1 Axes>"
            ]
          },
          "metadata": {},
          "output_type": "display_data"
        },
        {
          "name": "stdout",
          "output_type": "stream",
          "text": [
            "r^2 value: 0.838555477824588\n"
          ]
        }
      ],
      "source": [
        "r_value, p_value = pearsonr(data['Mystery'], data['Grade'])\n",
        "print(\"r-value: \"+ str(r_value)  + \"   p_value: \" + str(p_value))\n",
        "\n",
        "x = data['Mystery'].values.reshape(-1,1)\n",
        "y = data['Grade'].values.reshape(-1,1)\n",
        "\n",
        "model = LinearRegression()\n",
        "model.fit(x,y)\n",
        "\n",
        "plt.scatter(data['Mystery'], data['Grade'])\n",
        "plt.plot(data['Mystery'], model.predict(x), color = 'red', linewidth=2)\n",
        "plt.xlabel(\"Mystery\")\n",
        "plt.ylabel(\"Grade\")\n",
        "plt.title(\"Mystery vs Grade\")\n",
        "plt.show()\n",
        "print(\"r^2 value: \" + str(r_value**2))"
      ]
    },
    {
      "cell_type": "markdown",
      "metadata": {
        "id": "m5VHxwI5Jl8i"
      },
      "source": [
        "# Question 7\n",
        "\n",
        "Do a hypothesis test on something you think is interesting."
      ]
    },
    {
      "cell_type": "code",
      "execution_count": 165,
      "metadata": {
        "id": "yOh7gO2FJpCB"
      },
      "outputs": [
        {
          "name": "stdout",
          "output_type": "stream",
          "text": [
            "Lectures  Kinda  No  Yes\n",
            "Fair                    \n",
            "Kinda        16   7   18\n",
            "No            2  11   15\n",
            "Yes          28  34  115\n"
          ]
        },
        {
          "data": {
            "text/plain": [
              "Chi2ContingencyResult(statistic=19.52177453190717, pvalue=0.0006205097409095631, dof=4, expected_freq=array([[  7.66666667,   8.66666667,  24.66666667],\n",
              "       [  5.23577236,   5.91869919,  16.84552846],\n",
              "       [ 33.09756098,  37.41463415, 106.48780488]]))"
            ]
          },
          "execution_count": 165,
          "metadata": {},
          "output_type": "execute_result"
        }
      ],
      "source": [
        "import scipy as sp\n",
        "import scipy.stats\n",
        "# is there a significant difference in exam fairness and helpfulness of lectures\n",
        "# null: there is no association between exam fairness and helpfulness of lectures\n",
        "# alternative: there is an association between exam fairness and helpfulness of lectures\n",
        "# chi-squared test for independence\n",
        "crosstab = pd.crosstab(data['Fair'], data['Lectures'])\n",
        "print(crosstab)\n",
        "scipy.stats.chi2_contingency(crosstab)"
      ]
    },
    {
      "cell_type": "markdown",
      "metadata": {},
      "source": [
        "The p-value is very very low. Thus, there is significant evidence to reject the null hypothesis. There is a significant association between exam fairness and helpfulness of lectures. "
      ]
    },
    {
      "cell_type": "markdown",
      "metadata": {
        "id": "XPKkUx1UFCFS"
      },
      "source": [
        "# Question 8\n",
        "\n",
        "Write code that trains a regression algorithm over the data, predicting grade. You may not use the \"mystery\" column, but you may use all other columns. You must get an R^2 value > .09.\n",
        "\n",
        "(Note: This is going to be involved! You'll have to pick a regression algorithm and possibly do some preprocessing. Use what you learned in homework 5 to train it. You don't need a test set, since it's regression!)"
      ]
    },
    {
      "cell_type": "code",
      "execution_count": 166,
      "metadata": {
        "id": "hzQ3iPZyFww8"
      },
      "outputs": [
        {
          "data": {
            "text/plain": [
              "0.11633541718855922"
            ]
          },
          "execution_count": 166,
          "metadata": {},
          "output_type": "execute_result"
        }
      ],
      "source": [
        "from sklearn.linear_model import LinearRegression\n",
        "from sklearn.preprocessing import StandardScaler\n",
        "from sklearn.metrics import r2_score\n",
        "\n",
        "features = data.copy()\n",
        "\n",
        "def change_categorical(x):\n",
        "    if x == 'Yes':\n",
        "        return 2\n",
        "    elif x == 'No':\n",
        "        return 0\n",
        "    elif x == 'Kinda':\n",
        "        return 1\n",
        "\n",
        "features['Friend'] = features['Friend'].apply(change_categorical)\n",
        "features['Lectures'] = features['Lectures'].apply(change_categorical)\n",
        "features['Assignments'] = features['Assignments'].apply(change_categorical)\n",
        "features['Class'] = features['Class'].apply(change_categorical)\n",
        "features['Fair'] = features['Fair'].apply(change_categorical)\n",
        "features['XP'] = features['XP'].apply(change_categorical)\n",
        "\n",
        "\n",
        "features_other = features[['Hours_Studied', 'Friend', 'Fair', 'Lectures', 'Assignments','Sleep', 'XP', 'Class']]\n",
        "target = features['Grade']\n",
        "\n",
        "scaler = StandardScaler()\n",
        "x_scaled = scaler.fit_transform(features_other)\n",
        "\n",
        "model = LinearRegression()\n",
        "model.fit(x_scaled, target)\n",
        "\n",
        "y_pred = model.predict(x_scaled)\n",
        "\n",
        "r2_score(target, y_pred)\n",
        "# R^2 = .11634\n"
      ]
    },
    {
      "cell_type": "markdown",
      "metadata": {
        "id": "Ax4ViMC1FxCY"
      },
      "source": [
        "# Question 9\n",
        "\n",
        "Is your model any good? What does its performance tell you about the input variables' relationship to your grade?"
      ]
    },
    {
      "cell_type": "markdown",
      "metadata": {
        "id": "2_AwKBkJF54e"
      },
      "source": [
        "My model is not that great. Because the R^2 value is so low, we can see that the input variables are not closely related to the grade they got. "
      ]
    },
    {
      "cell_type": "markdown",
      "metadata": {
        "id": "grijV8YAF7Dz"
      },
      "source": [
        "# Question 10\n",
        "\n",
        "Execute the same code with the addition of the mystery column. You must get an R^2 higher than .7. Print your R^2 value."
      ]
    },
    {
      "cell_type": "code",
      "execution_count": 167,
      "metadata": {
        "id": "QGDonMG6GEgU"
      },
      "outputs": [
        {
          "data": {
            "text/plain": [
              "0.8434847640456538"
            ]
          },
          "execution_count": 167,
          "metadata": {},
          "output_type": "execute_result"
        }
      ],
      "source": [
        "features = data.copy()\n",
        "\n",
        "def change_categorical(x):\n",
        "    if x == 'Yes':\n",
        "        return 2\n",
        "    elif x == 'No':\n",
        "        return 0\n",
        "    elif x == 'Kinda':\n",
        "        return 1\n",
        "\n",
        "features['Friend'] = features['Friend'].apply(change_categorical)\n",
        "features['Lectures'] = features['Lectures'].apply(change_categorical)\n",
        "features['Assignments'] = features['Assignments'].apply(change_categorical)\n",
        "features['Class'] = features['Class'].apply(change_categorical)\n",
        "features['Fair'] = features['Fair'].apply(change_categorical)\n",
        "features['XP'] = features['XP'].apply(change_categorical)\n",
        "\n",
        "\n",
        "features_other = features[['Hours_Studied', 'Friend', 'Fair', 'Lectures', 'Assignments','Sleep', 'XP', 'Class', 'Mystery']]\n",
        "target = features['Grade']\n",
        "\n",
        "scaler = StandardScaler()\n",
        "x_scaled = scaler.fit_transform(features_other)\n",
        "\n",
        "model = LinearRegression()\n",
        "model.fit(x_scaled, target)\n",
        "\n",
        "y_pred = model.predict(x_scaled)\n",
        "\n",
        "r2_score(target, y_pred)"
      ]
    },
    {
      "cell_type": "markdown",
      "metadata": {
        "id": "zzHdAhCiGEv7"
      },
      "source": [
        "What is the mystery column, and why did it boost your model's accuracy so much?"
      ]
    },
    {
      "cell_type": "markdown",
      "metadata": {},
      "source": [
        "The mystery column is probably something strongly correlated with the grade column which is why it boosted the models accuracy so much. I think it is: (predicted grade/2) + or - (a little extra)"
      ]
    }
  ],
  "metadata": {
    "colab": {
      "provenance": []
    },
    "kernelspec": {
      "display_name": "Python 3",
      "name": "python3"
    },
    "language_info": {
      "codemirror_mode": {
        "name": "ipython",
        "version": 3
      },
      "file_extension": ".py",
      "mimetype": "text/x-python",
      "name": "python",
      "nbconvert_exporter": "python",
      "pygments_lexer": "ipython3",
      "version": "3.11.6"
    }
  },
  "nbformat": 4,
  "nbformat_minor": 0
}
