{
  "cells": [
    {
      "cell_type": "markdown",
      "metadata": {
        "id": "C3dpW27oAKE1"
      },
      "source": [
        "# Part 0\n",
        "\n",
        "Download the following files:\n",
        "\n",
        "[Titanic Full](https://drive.google.com/file/d/1jv3Ctntzb07jqmbfTFKZeS699j0jBjjE/view?usp=share_link)\n",
        "\n",
        "[Titanic Training](https://drive.google.com/file/d/1WNatBun5NcGLtZrzBgb15ima4Euwep9B/view?usp=share_link)\n",
        "\n",
        "[Titanic Test](https://drive.google.com/file/d/1T0XwZ7VRqY5tAarbdvLEGuYCC4fVR0BY/view?usp=share_link)\n",
        "\n",
        "Load the three dataframes into memory, naming them titanic, titanic_train, and titanic_test.\n",
        "\n",
        "This exercise will be auto-graded, so please make sure to follow the instructions **exactly**."
      ]
    },
    {
      "cell_type": "code",
      "execution_count": 1,
      "metadata": {
        "id": "1ItvVdADEnux"
      },
      "outputs": [],
      "source": [
        "import pandas as pd\n",
        "import numpy as np\n",
        "titanic=pd.read_csv('titanic.csv')\n",
        "titanic_train=pd.read_csv('titanic_train.csv')\n",
        "titanic_test=pd.read_csv('titanic_test.csv')"
      ]
    },
    {
      "cell_type": "markdown",
      "metadata": {
        "id": "IkKRKelyAr5L"
      },
      "source": [
        "# Part 1\n",
        "\n",
        "Write code that takes `titanic` and uses pd.get_dummies() to one-hot encode the \"Sex\" column, and add those columns to the titanic dataframe. Print the head of the new dataframe. Once we are done with this step, we won't use the `titanic` dataframe for anything else."
      ]
    },
    {
      "cell_type": "code",
      "execution_count": 2,
      "metadata": {
        "id": "qUtwMZGRBlli"
      },
      "outputs": [
        {
          "data": {
            "text/html": [
              "<div>\n",
              "<style scoped>\n",
              "    .dataframe tbody tr th:only-of-type {\n",
              "        vertical-align: middle;\n",
              "    }\n",
              "\n",
              "    .dataframe tbody tr th {\n",
              "        vertical-align: top;\n",
              "    }\n",
              "\n",
              "    .dataframe thead th {\n",
              "        text-align: right;\n",
              "    }\n",
              "</style>\n",
              "<table border=\"1\" class=\"dataframe\">\n",
              "  <thead>\n",
              "    <tr style=\"text-align: right;\">\n",
              "      <th></th>\n",
              "      <th>Age</th>\n",
              "      <th>Cabin</th>\n",
              "      <th>Embarked</th>\n",
              "      <th>Fare</th>\n",
              "      <th>Name</th>\n",
              "      <th>Parch</th>\n",
              "      <th>PassengerId</th>\n",
              "      <th>Pclass</th>\n",
              "      <th>Sex</th>\n",
              "      <th>SibSp</th>\n",
              "      <th>Survived</th>\n",
              "      <th>Ticket</th>\n",
              "      <th>Title</th>\n",
              "      <th>Family_Size</th>\n",
              "      <th>female</th>\n",
              "      <th>male</th>\n",
              "    </tr>\n",
              "  </thead>\n",
              "  <tbody>\n",
              "    <tr>\n",
              "      <th>0</th>\n",
              "      <td>22.0</td>\n",
              "      <td>NaN</td>\n",
              "      <td>S</td>\n",
              "      <td>7.2500</td>\n",
              "      <td>Braund, Mr. Owen Harris</td>\n",
              "      <td>0</td>\n",
              "      <td>1</td>\n",
              "      <td>3</td>\n",
              "      <td>male</td>\n",
              "      <td>1</td>\n",
              "      <td>0.0</td>\n",
              "      <td>A/5 21171</td>\n",
              "      <td>Mr</td>\n",
              "      <td>1</td>\n",
              "      <td>False</td>\n",
              "      <td>True</td>\n",
              "    </tr>\n",
              "    <tr>\n",
              "      <th>1</th>\n",
              "      <td>38.0</td>\n",
              "      <td>C85</td>\n",
              "      <td>C</td>\n",
              "      <td>71.2833</td>\n",
              "      <td>Cumings, Mrs. John Bradley (Florence Briggs Th...</td>\n",
              "      <td>0</td>\n",
              "      <td>2</td>\n",
              "      <td>1</td>\n",
              "      <td>female</td>\n",
              "      <td>1</td>\n",
              "      <td>1.0</td>\n",
              "      <td>PC 17599</td>\n",
              "      <td>Mrs</td>\n",
              "      <td>1</td>\n",
              "      <td>True</td>\n",
              "      <td>False</td>\n",
              "    </tr>\n",
              "    <tr>\n",
              "      <th>2</th>\n",
              "      <td>26.0</td>\n",
              "      <td>NaN</td>\n",
              "      <td>S</td>\n",
              "      <td>7.9250</td>\n",
              "      <td>Heikkinen, Miss. Laina</td>\n",
              "      <td>0</td>\n",
              "      <td>3</td>\n",
              "      <td>3</td>\n",
              "      <td>female</td>\n",
              "      <td>0</td>\n",
              "      <td>1.0</td>\n",
              "      <td>STON/O2. 3101282</td>\n",
              "      <td>Miss</td>\n",
              "      <td>0</td>\n",
              "      <td>True</td>\n",
              "      <td>False</td>\n",
              "    </tr>\n",
              "    <tr>\n",
              "      <th>3</th>\n",
              "      <td>35.0</td>\n",
              "      <td>C123</td>\n",
              "      <td>S</td>\n",
              "      <td>53.1000</td>\n",
              "      <td>Futrelle, Mrs. Jacques Heath (Lily May Peel)</td>\n",
              "      <td>0</td>\n",
              "      <td>4</td>\n",
              "      <td>1</td>\n",
              "      <td>female</td>\n",
              "      <td>1</td>\n",
              "      <td>1.0</td>\n",
              "      <td>113803</td>\n",
              "      <td>Mrs</td>\n",
              "      <td>1</td>\n",
              "      <td>True</td>\n",
              "      <td>False</td>\n",
              "    </tr>\n",
              "    <tr>\n",
              "      <th>4</th>\n",
              "      <td>35.0</td>\n",
              "      <td>NaN</td>\n",
              "      <td>S</td>\n",
              "      <td>8.0500</td>\n",
              "      <td>Allen, Mr. William Henry</td>\n",
              "      <td>0</td>\n",
              "      <td>5</td>\n",
              "      <td>3</td>\n",
              "      <td>male</td>\n",
              "      <td>0</td>\n",
              "      <td>0.0</td>\n",
              "      <td>373450</td>\n",
              "      <td>Mr</td>\n",
              "      <td>0</td>\n",
              "      <td>False</td>\n",
              "      <td>True</td>\n",
              "    </tr>\n",
              "  </tbody>\n",
              "</table>\n",
              "</div>"
            ],
            "text/plain": [
              "    Age Cabin Embarked     Fare  \\\n",
              "0  22.0   NaN        S   7.2500   \n",
              "1  38.0   C85        C  71.2833   \n",
              "2  26.0   NaN        S   7.9250   \n",
              "3  35.0  C123        S  53.1000   \n",
              "4  35.0   NaN        S   8.0500   \n",
              "\n",
              "                                                Name  Parch  PassengerId  \\\n",
              "0                            Braund, Mr. Owen Harris      0            1   \n",
              "1  Cumings, Mrs. John Bradley (Florence Briggs Th...      0            2   \n",
              "2                             Heikkinen, Miss. Laina      0            3   \n",
              "3       Futrelle, Mrs. Jacques Heath (Lily May Peel)      0            4   \n",
              "4                           Allen, Mr. William Henry      0            5   \n",
              "\n",
              "   Pclass     Sex  SibSp  Survived            Ticket Title  Family_Size  \\\n",
              "0       3    male      1       0.0         A/5 21171    Mr            1   \n",
              "1       1  female      1       1.0          PC 17599   Mrs            1   \n",
              "2       3  female      0       1.0  STON/O2. 3101282  Miss            0   \n",
              "3       1  female      1       1.0            113803   Mrs            1   \n",
              "4       3    male      0       0.0            373450    Mr            0   \n",
              "\n",
              "   female   male  \n",
              "0   False   True  \n",
              "1    True  False  \n",
              "2    True  False  \n",
              "3    True  False  \n",
              "4   False   True  "
            ]
          },
          "execution_count": 2,
          "metadata": {},
          "output_type": "execute_result"
        }
      ],
      "source": [
        "titanic = pd.concat([titanic,pd.get_dummies(titanic['Sex'])], axis=1, join='inner')\n",
        "titanic.head()\n"
      ]
    },
    {
      "cell_type": "markdown",
      "metadata": {
        "id": "K2fhp_QVBmHq"
      },
      "source": [
        "# Part 2\n",
        "\n",
        "Train a [decision tree](https://scikit-learn.org/stable/modules/generated/sklearn.tree.DecisionTreeClassifier.html) using titanic_train. Print out the % accuracy of running the `predict()` function over `titanic_train[\"Survived\"]`. (Basically, we're predicting the decision tree's accuracy on the training set.)\n",
        "\n",
        "**For all classifiers, you must include the argument random_state=0 upon initilzation, or the auto-grader won't work. This will result in a 10% penalty.**"
      ]
    },
    {
      "cell_type": "code",
      "execution_count": 3,
      "metadata": {
        "id": "ou9N1PN3Cgkh"
      },
      "outputs": [
        {
          "data": {
            "text/plain": [
              "0.98125"
            ]
          },
          "execution_count": 3,
          "metadata": {},
          "output_type": "execute_result"
        }
      ],
      "source": [
        "from sklearn.tree import DecisionTreeClassifier\n",
        "from sklearn.metrics import accuracy_score\n",
        "clf = DecisionTreeClassifier(random_state=0)\n",
        "\n",
        "x = ['female', 'male', 'Age', 'Fare', 'Family_Size', 'Pclass']\n",
        "target = 'Survived'\n",
        "x_train = titanic_train[x]\n",
        "target_train = titanic_train[target]\n",
        "\n",
        "clf.fit(x_train, target_train)\n",
        "\n",
        "train_predictions = clf.predict(x_train)\n",
        "\n",
        "accuracy_score(target_train, train_predictions)"
      ]
    },
    {
      "cell_type": "markdown",
      "metadata": {
        "id": "9f4mvuMZCg5b"
      },
      "source": [
        "# Part 3\n",
        "\n",
        "Print out the trained decision trees accuracy on the test set."
      ]
    },
    {
      "cell_type": "code",
      "execution_count": 4,
      "metadata": {
        "id": "TIOLRofqCl-L"
      },
      "outputs": [
        {
          "data": {
            "text/plain": [
              "0.8241758241758241"
            ]
          },
          "execution_count": 4,
          "metadata": {},
          "output_type": "execute_result"
        }
      ],
      "source": [
        "x_train_test = titanic_test[x]\n",
        "target_train_test = titanic_test[target]\n",
        "\n",
        "test_predictions = clf.predict(x_train_test)\n",
        "accuracy_score(target_train_test, test_predictions)"
      ]
    },
    {
      "cell_type": "markdown",
      "metadata": {
        "id": "31oDnUr6CmSi"
      },
      "source": [
        "# Part 4\n",
        "\n",
        "Going forward, you will not need titanic_test for anything.\n",
        "\n",
        "Using [this function](https://scikit-learn.org/stable/modules/generated/sklearn.model_selection.cross_val_score.html), print out the cross-val score for your decision tree with k=10 using **only the training set**. This will be an array of ten numbers."
      ]
    },
    {
      "cell_type": "code",
      "execution_count": 5,
      "metadata": {
        "id": "-yEaaH45DJMY"
      },
      "outputs": [
        {
          "data": {
            "text/plain": [
              "array([0.75  , 0.725 , 0.7875, 0.7375, 0.8   , 0.7875, 0.75  , 0.8   ,\n",
              "       0.7125, 0.75  ])"
            ]
          },
          "execution_count": 5,
          "metadata": {},
          "output_type": "execute_result"
        }
      ],
      "source": [
        "from sklearn.model_selection import cross_val_score\n",
        "cross_val_score(clf, x_train, target_train, cv=10)"
      ]
    },
    {
      "cell_type": "markdown",
      "metadata": {
        "id": "QABm92UvDMY5"
      },
      "source": [
        "# Part 5\n",
        "\n",
        "Print out the ten-fold cross-valdiation results for a [support vector machine](https://scikit-learn.org/stable/modules/generated/sklearn.svm.SVC.html) over the training set."
      ]
    },
    {
      "cell_type": "code",
      "execution_count": 6,
      "metadata": {
        "id": "cPGZ8aK0Dx6s"
      },
      "outputs": [
        {
          "data": {
            "text/plain": [
              "array([0.6125, 0.6   , 0.6375, 0.75  , 0.7   , 0.6625, 0.675 , 0.725 ,\n",
              "       0.725 , 0.7   ])"
            ]
          },
          "execution_count": 6,
          "metadata": {},
          "output_type": "execute_result"
        }
      ],
      "source": [
        "from sklearn.svm import SVC\n",
        "svm = SVC(random_state=0)\n",
        "cross_val_score(svm, x_train, target_train, cv=10)"
      ]
    },
    {
      "cell_type": "markdown",
      "metadata": {
        "id": "o0OlbaBbDyJ2"
      },
      "source": [
        "# Part 5\n",
        "\n",
        "Print out the ten-fold cross-valdiation results for a [random forest](https://scikit-learn.org/stable/modules/generated/sklearn.ensemble.RandomForestClassifier.html) over the training set."
      ]
    },
    {
      "cell_type": "code",
      "execution_count": 7,
      "metadata": {
        "id": "4oPzotUpD4TR"
      },
      "outputs": [
        {
          "data": {
            "text/plain": [
              "array([0.7625, 0.8   , 0.8125, 0.775 , 0.8375, 0.8375, 0.825 , 0.8375,\n",
              "       0.7625, 0.825 ])"
            ]
          },
          "execution_count": 7,
          "metadata": {},
          "output_type": "execute_result"
        }
      ],
      "source": [
        "from sklearn.ensemble import RandomForestClassifier\n",
        "rf = RandomForestClassifier(random_state=0)\n",
        "cross_val_score(rf, x_train, target_train, cv=10)"
      ]
    }
  ],
  "metadata": {
    "colab": {
      "provenance": []
    },
    "kernelspec": {
      "display_name": "Python 3",
      "name": "python3"
    },
    "language_info": {
      "codemirror_mode": {
        "name": "ipython",
        "version": 3
      },
      "file_extension": ".py",
      "mimetype": "text/x-python",
      "name": "python",
      "nbconvert_exporter": "python",
      "pygments_lexer": "ipython3",
      "version": "3.11.6"
    }
  },
  "nbformat": 4,
  "nbformat_minor": 0
}
