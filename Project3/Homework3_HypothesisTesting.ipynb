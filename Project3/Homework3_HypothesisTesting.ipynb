{
 "cells": [
  {
   "cell_type": "markdown",
   "id": "3b6c7ee1",
   "metadata": {},
   "source": [
    "# Homework 3: Hypothesis Testing\n",
    "## CMSC320 Fall 2023\n",
    "### [NAME]\n",
    "\n",
    "#### Introduction\n",
    "This homework will help you practice a variety of cases where hypothesis testing is needed. Refer to the variable description below when completing this assignment to help determine the best possible hypothesis test. Before performing hypothesis tests, you should investigate variables and their distributions in the dataset. For hypothesis testing, write out the null and alternate hpyothesis, use numpy/scipy to perform calculations, and detail a short conclusion. Please try to use markdown for any written analysis!\n",
    "\n",
    "[NumPy Stats Documentation](https://numpy.org/doc/stable/reference/routines.statistics.html) (Basic Statistics)\n",
    "\n",
    "[SciPy Stats Documentation](https://docs.scipy.org/doc/scipy/reference/stats.html) (Hypothesis Testing)\n",
    " \n",
    "Read Up On and Use ONLY these tests for this homework.\n",
    "- Chi-Squared Test For Independence\n",
    "- Z test\n",
    "- T Test\n",
    "- Mann-Whitney U Test\n",
    "\n",
    "#### Dataset\n",
    "\n",
    "| Variable          |Definition | Key |\n",
    "| :---------------- | :------: | ----: |\n",
    "| survival          |   Surivival   | 0 = No, 1 = Yes |\n",
    "| pclass           |    Ticket class   | 1 = 1st, 2 = 2nd, 3 = 3rd |\n",
    "| sex    |  Sex   | 19.99 |\n",
    "| age |  Age in years   | 42.99 |\n",
    "| sibsp |  # of siblings / spouses aboard the Titanic   | 42.99 |\n",
    "| parch    |  # of parents / children aboard the Titanic   | 19.99 |\n",
    "| ticket    |  Ticket   | 19.99 |\n",
    "| fare    |  Passenger Fare   | 19.99 |\n",
    "| cabin    |  Cabin Number   | 19.99 |\n",
    "| embarked    |  Port of Embarkation   | C = Cherbourg, Q = Queenstown, S = Southampton |\n",
    "\n",
    "#### Variable Notes\n",
    "pclass: A proxy for socio-economic status (SES)\n",
    "- 1st = Upper\n",
    "- 2nd = Middle\n",
    "- 3rd = Lower\n",
    "\n",
    "age: Age is fractional if less than 1. If the age is estimated, is it in the form of xx.5\n",
    "\n",
    "sibsp: The dataset defines family relations in this way...\n",
    "- Sibling = brother, sister, stepbrother, stepsister\n",
    "- Spouse = husband, wife (mistresses and fiancés were ignored)\n",
    "\n",
    "parch: The dataset defines family relations in this way...\n",
    "- Parent = mother, father\n",
    "- Child = daughter, son, stepdaughter, stepson\n",
    "- Some children travelled only with a nanny, therefore parch=0 for them."
   ]
  },
  {
   "cell_type": "markdown",
   "id": "fb94dbaf",
   "metadata": {},
   "source": [
    "## Part 1: Cleaning and Exploration of Data\n",
    "This part is not graded. Clean and explore data as you see fit."
   ]
  },
  {
   "cell_type": "code",
   "execution_count": 159,
   "id": "2148d8db",
   "metadata": {},
   "outputs": [],
   "source": [
    "import pandas as pd\n",
    "import numpy as np\n",
    "import scipy as sp\n",
    "import scipy.stats\n",
    "import matplotlib as mpl"
   ]
  },
  {
   "cell_type": "code",
   "execution_count": 160,
   "id": "e2471b9a",
   "metadata": {},
   "outputs": [
    {
     "data": {
      "text/html": [
       "<div>\n",
       "<style scoped>\n",
       "    .dataframe tbody tr th:only-of-type {\n",
       "        vertical-align: middle;\n",
       "    }\n",
       "\n",
       "    .dataframe tbody tr th {\n",
       "        vertical-align: top;\n",
       "    }\n",
       "\n",
       "    .dataframe thead th {\n",
       "        text-align: right;\n",
       "    }\n",
       "</style>\n",
       "<table border=\"1\" class=\"dataframe\">\n",
       "  <thead>\n",
       "    <tr style=\"text-align: right;\">\n",
       "      <th></th>\n",
       "      <th>PassengerId</th>\n",
       "      <th>Survived</th>\n",
       "      <th>Pclass</th>\n",
       "      <th>Name</th>\n",
       "      <th>Sex</th>\n",
       "      <th>Age</th>\n",
       "      <th>SibSp</th>\n",
       "      <th>Parch</th>\n",
       "      <th>Ticket</th>\n",
       "      <th>Fare</th>\n",
       "      <th>Cabin</th>\n",
       "      <th>Embarked</th>\n",
       "    </tr>\n",
       "  </thead>\n",
       "  <tbody>\n",
       "    <tr>\n",
       "      <th>0</th>\n",
       "      <td>1</td>\n",
       "      <td>0</td>\n",
       "      <td>3</td>\n",
       "      <td>Braund, Mr. Owen Harris</td>\n",
       "      <td>male</td>\n",
       "      <td>22.0</td>\n",
       "      <td>1</td>\n",
       "      <td>0</td>\n",
       "      <td>A/5 21171</td>\n",
       "      <td>7.2500</td>\n",
       "      <td>NaN</td>\n",
       "      <td>S</td>\n",
       "    </tr>\n",
       "    <tr>\n",
       "      <th>1</th>\n",
       "      <td>2</td>\n",
       "      <td>1</td>\n",
       "      <td>1</td>\n",
       "      <td>Cumings, Mrs. John Bradley (Florence Briggs Th...</td>\n",
       "      <td>female</td>\n",
       "      <td>38.0</td>\n",
       "      <td>1</td>\n",
       "      <td>0</td>\n",
       "      <td>PC 17599</td>\n",
       "      <td>71.2833</td>\n",
       "      <td>C85</td>\n",
       "      <td>C</td>\n",
       "    </tr>\n",
       "    <tr>\n",
       "      <th>2</th>\n",
       "      <td>3</td>\n",
       "      <td>1</td>\n",
       "      <td>3</td>\n",
       "      <td>Heikkinen, Miss. Laina</td>\n",
       "      <td>female</td>\n",
       "      <td>26.0</td>\n",
       "      <td>0</td>\n",
       "      <td>0</td>\n",
       "      <td>STON/O2. 3101282</td>\n",
       "      <td>7.9250</td>\n",
       "      <td>NaN</td>\n",
       "      <td>S</td>\n",
       "    </tr>\n",
       "    <tr>\n",
       "      <th>3</th>\n",
       "      <td>4</td>\n",
       "      <td>1</td>\n",
       "      <td>1</td>\n",
       "      <td>Futrelle, Mrs. Jacques Heath (Lily May Peel)</td>\n",
       "      <td>female</td>\n",
       "      <td>35.0</td>\n",
       "      <td>1</td>\n",
       "      <td>0</td>\n",
       "      <td>113803</td>\n",
       "      <td>53.1000</td>\n",
       "      <td>C123</td>\n",
       "      <td>S</td>\n",
       "    </tr>\n",
       "    <tr>\n",
       "      <th>4</th>\n",
       "      <td>5</td>\n",
       "      <td>0</td>\n",
       "      <td>3</td>\n",
       "      <td>Allen, Mr. William Henry</td>\n",
       "      <td>male</td>\n",
       "      <td>35.0</td>\n",
       "      <td>0</td>\n",
       "      <td>0</td>\n",
       "      <td>373450</td>\n",
       "      <td>8.0500</td>\n",
       "      <td>NaN</td>\n",
       "      <td>S</td>\n",
       "    </tr>\n",
       "    <tr>\n",
       "      <th>...</th>\n",
       "      <td>...</td>\n",
       "      <td>...</td>\n",
       "      <td>...</td>\n",
       "      <td>...</td>\n",
       "      <td>...</td>\n",
       "      <td>...</td>\n",
       "      <td>...</td>\n",
       "      <td>...</td>\n",
       "      <td>...</td>\n",
       "      <td>...</td>\n",
       "      <td>...</td>\n",
       "      <td>...</td>\n",
       "    </tr>\n",
       "    <tr>\n",
       "      <th>886</th>\n",
       "      <td>887</td>\n",
       "      <td>0</td>\n",
       "      <td>2</td>\n",
       "      <td>Montvila, Rev. Juozas</td>\n",
       "      <td>male</td>\n",
       "      <td>27.0</td>\n",
       "      <td>0</td>\n",
       "      <td>0</td>\n",
       "      <td>211536</td>\n",
       "      <td>13.0000</td>\n",
       "      <td>NaN</td>\n",
       "      <td>S</td>\n",
       "    </tr>\n",
       "    <tr>\n",
       "      <th>887</th>\n",
       "      <td>888</td>\n",
       "      <td>1</td>\n",
       "      <td>1</td>\n",
       "      <td>Graham, Miss. Margaret Edith</td>\n",
       "      <td>female</td>\n",
       "      <td>19.0</td>\n",
       "      <td>0</td>\n",
       "      <td>0</td>\n",
       "      <td>112053</td>\n",
       "      <td>30.0000</td>\n",
       "      <td>B42</td>\n",
       "      <td>S</td>\n",
       "    </tr>\n",
       "    <tr>\n",
       "      <th>888</th>\n",
       "      <td>889</td>\n",
       "      <td>0</td>\n",
       "      <td>3</td>\n",
       "      <td>Johnston, Miss. Catherine Helen \"Carrie\"</td>\n",
       "      <td>female</td>\n",
       "      <td>29.7</td>\n",
       "      <td>1</td>\n",
       "      <td>2</td>\n",
       "      <td>W./C. 6607</td>\n",
       "      <td>23.4500</td>\n",
       "      <td>NaN</td>\n",
       "      <td>S</td>\n",
       "    </tr>\n",
       "    <tr>\n",
       "      <th>889</th>\n",
       "      <td>890</td>\n",
       "      <td>1</td>\n",
       "      <td>1</td>\n",
       "      <td>Behr, Mr. Karl Howell</td>\n",
       "      <td>male</td>\n",
       "      <td>26.0</td>\n",
       "      <td>0</td>\n",
       "      <td>0</td>\n",
       "      <td>111369</td>\n",
       "      <td>30.0000</td>\n",
       "      <td>C148</td>\n",
       "      <td>C</td>\n",
       "    </tr>\n",
       "    <tr>\n",
       "      <th>890</th>\n",
       "      <td>891</td>\n",
       "      <td>0</td>\n",
       "      <td>3</td>\n",
       "      <td>Dooley, Mr. Patrick</td>\n",
       "      <td>male</td>\n",
       "      <td>32.0</td>\n",
       "      <td>0</td>\n",
       "      <td>0</td>\n",
       "      <td>370376</td>\n",
       "      <td>7.7500</td>\n",
       "      <td>NaN</td>\n",
       "      <td>Q</td>\n",
       "    </tr>\n",
       "  </tbody>\n",
       "</table>\n",
       "<p>891 rows × 12 columns</p>\n",
       "</div>"
      ],
      "text/plain": [
       "     PassengerId  Survived  Pclass  \\\n",
       "0              1         0       3   \n",
       "1              2         1       1   \n",
       "2              3         1       3   \n",
       "3              4         1       1   \n",
       "4              5         0       3   \n",
       "..           ...       ...     ...   \n",
       "886          887         0       2   \n",
       "887          888         1       1   \n",
       "888          889         0       3   \n",
       "889          890         1       1   \n",
       "890          891         0       3   \n",
       "\n",
       "                                                  Name     Sex   Age  SibSp  \\\n",
       "0                              Braund, Mr. Owen Harris    male  22.0      1   \n",
       "1    Cumings, Mrs. John Bradley (Florence Briggs Th...  female  38.0      1   \n",
       "2                               Heikkinen, Miss. Laina  female  26.0      0   \n",
       "3         Futrelle, Mrs. Jacques Heath (Lily May Peel)  female  35.0      1   \n",
       "4                             Allen, Mr. William Henry    male  35.0      0   \n",
       "..                                                 ...     ...   ...    ...   \n",
       "886                              Montvila, Rev. Juozas    male  27.0      0   \n",
       "887                       Graham, Miss. Margaret Edith  female  19.0      0   \n",
       "888           Johnston, Miss. Catherine Helen \"Carrie\"  female  29.7      1   \n",
       "889                              Behr, Mr. Karl Howell    male  26.0      0   \n",
       "890                                Dooley, Mr. Patrick    male  32.0      0   \n",
       "\n",
       "     Parch            Ticket     Fare Cabin Embarked  \n",
       "0        0         A/5 21171   7.2500   NaN        S  \n",
       "1        0          PC 17599  71.2833   C85        C  \n",
       "2        0  STON/O2. 3101282   7.9250   NaN        S  \n",
       "3        0            113803  53.1000  C123        S  \n",
       "4        0            373450   8.0500   NaN        S  \n",
       "..     ...               ...      ...   ...      ...  \n",
       "886      0            211536  13.0000   NaN        S  \n",
       "887      0            112053  30.0000   B42        S  \n",
       "888      2        W./C. 6607  23.4500   NaN        S  \n",
       "889      0            111369  30.0000  C148        C  \n",
       "890      0            370376   7.7500   NaN        Q  \n",
       "\n",
       "[891 rows x 12 columns]"
      ]
     },
     "execution_count": 160,
     "metadata": {},
     "output_type": "execute_result"
    }
   ],
   "source": [
    "data = pd.read_csv(\"data.csv\")\n",
    "mean_age = round(data[\"Age\"].mean(),2)\n",
    "data['Age'] = data['Age'].fillna(mean_age)\n",
    "data"
   ]
  },
  {
   "cell_type": "code",
   "execution_count": 161,
   "id": "d031a4d8",
   "metadata": {},
   "outputs": [
    {
     "name": "stdout",
     "output_type": "stream",
     "text": [
      "<class 'pandas.core.frame.DataFrame'>\n",
      "RangeIndex: 891 entries, 0 to 890\n",
      "Data columns (total 12 columns):\n",
      " #   Column       Non-Null Count  Dtype  \n",
      "---  ------       --------------  -----  \n",
      " 0   PassengerId  891 non-null    int64  \n",
      " 1   Survived     891 non-null    int64  \n",
      " 2   Pclass       891 non-null    int64  \n",
      " 3   Name         891 non-null    object \n",
      " 4   Sex          891 non-null    object \n",
      " 5   Age          891 non-null    float64\n",
      " 6   SibSp        891 non-null    int64  \n",
      " 7   Parch        891 non-null    int64  \n",
      " 8   Ticket       891 non-null    object \n",
      " 9   Fare         891 non-null    float64\n",
      " 10  Cabin        204 non-null    object \n",
      " 11  Embarked     889 non-null    object \n",
      "dtypes: float64(2), int64(5), object(5)\n",
      "memory usage: 83.7+ KB\n"
     ]
    }
   ],
   "source": [
    "data.info()"
   ]
  },
  {
   "cell_type": "code",
   "execution_count": null,
   "id": "e932c622",
   "metadata": {},
   "outputs": [],
   "source": []
  },
  {
   "cell_type": "markdown",
   "id": "f5d6b3b1",
   "metadata": {},
   "source": [
    "## Part 2: Guided Research\n",
    "\n",
    "1. Determine data type (numerical, catagorical, etc) and qualifying conditions for the following hypothesis tests. These will be the hypothesis tests that you will use to complete the rest of the homework.\n",
    "    - Chi-Squared Test For Independence\n",
    "    - Z test\n",
    "    - T Test\n",
    "    - Mann-Whitney U Test\n",
    "\n",
    "Answer Here"
   ]
  },
  {
   "cell_type": "markdown",
   "id": "7348ac27",
   "metadata": {},
   "source": [
    "Chi squared Test for Independence:\n",
    "- Categorical\n",
    "- Qualifying conditions:\n",
    "    * Discrete or categorical data\n",
    "    * independent\n",
    "    * random\n",
    "    * large sample size\n",
    "\n",
    "Z- Test\n",
    "- numerical\n",
    "- compare smaple mean to know if sig diff from pop mean\n",
    "- qualifying conditions\n",
    "    * normally distributed or n > 30\n",
    "    * independent\n",
    "    * random\n",
    "    * known population standard deviation\n",
    "\n",
    "T-Test\n",
    "- numerical\n",
    "- compare means to look for sig difference\n",
    "- qualifying conditions:\n",
    "   * normally distributed\n",
    "   * independent\n",
    "   * random\n",
    "   * small number of samples\n",
    "\n",
    "Mann-Whitney U Test:\n",
    "- ordinal\n",
    "- compare two independent groups to look for sig diff\n",
    "- Qualifying conditions:\n",
    "    * independent\n",
    "    * random\n",
    "    * similar variances\n",
    "    * independent ranks\n",
    "\n"
   ]
  },
  {
   "cell_type": "markdown",
   "id": "c66e0128",
   "metadata": {},
   "source": [
    "## Part 3: Hypothesis Testing with Two Catagorical Variables\n",
    "Use $\\alpha = 0.01$ for all statistical tests. Essentially, this is the treshold that you compare to the calculated p-value in order to determine statistical significance."
   ]
  },
  {
   "cell_type": "markdown",
   "id": "5957dcfd",
   "metadata": {},
   "source": [
    "### A. Surviving and Sex (Partial Example)\n",
    "Notice some of the work is already done for you to get you started.\n",
    "\n",
    "#### 1. Create Contingency Table\n",
    "|           | Male | Female |\n",
    "| :--------: | :--------: | :--------: |\n",
    "| Survived          |   81   | 233 |\n",
    "| Did not Survive   |    468  | 109 |\n",
    "\n",
    "Example code to create contigency table below"
   ]
  },
  {
   "cell_type": "code",
   "execution_count": 162,
   "id": "0c192fbd",
   "metadata": {},
   "outputs": [],
   "source": [
    "# Code to create contigency table is provided below\n",
    "\n",
    "crosstab = pd.crosstab(data[\"Sex\"], data[\"Survived\"].apply(lambda x: \"Not Survived\" if x == 0 else \"Survived\"))"
   ]
  },
  {
   "cell_type": "markdown",
   "id": "7ed26b21",
   "metadata": {},
   "source": [
    "#### 2. Create Null and Alternate Hypothesis (Already done as example for this question)\n",
    "\n",
    "$N_0 = $ Sex and Survival are independent variables\n",
    "\n",
    "$N_A = $ There's a significant association between sex and survival"
   ]
  },
  {
   "cell_type": "markdown",
   "id": "952e32f9",
   "metadata": {},
   "source": [
    "#### 3. Perform Appropriate Hypothesis Test and Calculate P-Value \n",
    "Use Numpy and Scipy, Do NOT manually do calculations"
   ]
  },
  {
   "cell_type": "code",
   "execution_count": 163,
   "id": "176ca159",
   "metadata": {},
   "outputs": [
    {
     "data": {
      "text/plain": [
       "Chi2ContingencyResult(statistic=260.71702016732104, pvalue=1.1973570627755645e-58, dof=1, expected_freq=array([[193.47474747, 120.52525253],\n",
       "       [355.52525253, 221.47474747]]))"
      ]
     },
     "execution_count": 163,
     "metadata": {},
     "output_type": "execute_result"
    }
   ],
   "source": [
    "# used chi-squared because we have two categorical variables \n",
    "scipy.stats.chi2_contingency(crosstab)"
   ]
  },
  {
   "cell_type": "markdown",
   "id": "7b4a8bd6",
   "metadata": {},
   "source": [
    "#### 4. Interpret Results\n",
    "Be specific. Determine whether to reject or accept the Null Hypothesis. Was there a group in particular that was more likely to survive the Titanic?"
   ]
  },
  {
   "cell_type": "markdown",
   "id": "ef19834c",
   "metadata": {},
   "source": [
    "p-value 1.197e-58    < alpha = .01\n",
    "There is significant evidence to reject the null hypothesis.\n",
    "There is a significant association between sex and survival\n",
    "Based on the table, women were more likely to survive the Titanic."
   ]
  },
  {
   "cell_type": "markdown",
   "id": "e796ef61",
   "metadata": {},
   "source": [
    "### B. Surviving and Ticket Class\n",
    "#### 1. Create Contingency Table"
   ]
  },
  {
   "cell_type": "code",
   "execution_count": 164,
   "id": "b0afdcee",
   "metadata": {},
   "outputs": [
    {
     "data": {
      "text/html": [
       "<div>\n",
       "<style scoped>\n",
       "    .dataframe tbody tr th:only-of-type {\n",
       "        vertical-align: middle;\n",
       "    }\n",
       "\n",
       "    .dataframe tbody tr th {\n",
       "        vertical-align: top;\n",
       "    }\n",
       "\n",
       "    .dataframe thead th {\n",
       "        text-align: right;\n",
       "    }\n",
       "</style>\n",
       "<table border=\"1\" class=\"dataframe\">\n",
       "  <thead>\n",
       "    <tr style=\"text-align: right;\">\n",
       "      <th>Survived</th>\n",
       "      <th>Not Survived</th>\n",
       "      <th>Survived</th>\n",
       "    </tr>\n",
       "    <tr>\n",
       "      <th>Pclass</th>\n",
       "      <th></th>\n",
       "      <th></th>\n",
       "    </tr>\n",
       "  </thead>\n",
       "  <tbody>\n",
       "    <tr>\n",
       "      <th>Lower</th>\n",
       "      <td>372</td>\n",
       "      <td>119</td>\n",
       "    </tr>\n",
       "    <tr>\n",
       "      <th>Middle</th>\n",
       "      <td>97</td>\n",
       "      <td>87</td>\n",
       "    </tr>\n",
       "    <tr>\n",
       "      <th>Upper</th>\n",
       "      <td>80</td>\n",
       "      <td>136</td>\n",
       "    </tr>\n",
       "  </tbody>\n",
       "</table>\n",
       "</div>"
      ],
      "text/plain": [
       "Survived  Not Survived  Survived\n",
       "Pclass                          \n",
       "Lower              372       119\n",
       "Middle              97        87\n",
       "Upper               80       136"
      ]
     },
     "execution_count": 164,
     "metadata": {},
     "output_type": "execute_result"
    }
   ],
   "source": [
    "def condition(x):\n",
    "    if x == 1:\n",
    "        return \"Upper\"\n",
    "    elif x == 2:\n",
    "        return \"Middle\"\n",
    "    elif x == 3:\n",
    "        return \"Lower\"\n",
    "    \n",
    "crosstab = pd.crosstab(data[\"Pclass\"].apply(condition), data[\"Survived\"].apply(lambda x: \"Not Survived\" if x == 0 else \"Survived\"))\n",
    "crosstab"
   ]
  },
  {
   "cell_type": "markdown",
   "id": "2cf96748",
   "metadata": {},
   "source": [
    "#### 2. Create Null and Alternate Hypothesis"
   ]
  },
  {
   "cell_type": "markdown",
   "id": "6d6889f5",
   "metadata": {},
   "source": [
    "$N_0 = $ Social Class and Survival are independent variables\n",
    "\n",
    "$N_A = $ There's a significant association between social class and survival"
   ]
  },
  {
   "cell_type": "markdown",
   "id": "5c42fbc4",
   "metadata": {},
   "source": [
    "#### 3. Perform Appropriate Hypothesis Test and Calculate P-Value "
   ]
  },
  {
   "cell_type": "code",
   "execution_count": 165,
   "id": "d7c8e8df",
   "metadata": {},
   "outputs": [
    {
     "data": {
      "text/plain": [
       "Chi2ContingencyResult(statistic=102.88898875696057, pvalue=4.5492517112987287e-23, dof=2, expected_freq=array([[302.53535354, 188.46464646],\n",
       "       [113.37373737,  70.62626263],\n",
       "       [133.09090909,  82.90909091]]))"
      ]
     },
     "execution_count": 165,
     "metadata": {},
     "output_type": "execute_result"
    }
   ],
   "source": [
    "scipy.stats.chi2_contingency(crosstab)"
   ]
  },
  {
   "cell_type": "markdown",
   "id": "60dffc0b",
   "metadata": {},
   "source": [
    "#### 4. Interpret Results"
   ]
  },
  {
   "cell_type": "markdown",
   "id": "329c1ca1",
   "metadata": {},
   "source": [
    "p-value 4.55e-23 < alpha = .01\n",
    "There is significant evidene to reject the null hypothesis\n",
    "There is a significant association between social class and survival.\n",
    "Lower Class people were less likely to survive the Titanic. Upper Class people were more likely to survive the Titanic. Middle Class people were around equal on surviving and not surviving.\n"
   ]
  },
  {
   "cell_type": "markdown",
   "id": "955d9c93",
   "metadata": {},
   "source": [
    "### C. Surviving and Embarked Location\n",
    "#### 1. Create Contingency Table"
   ]
  },
  {
   "cell_type": "code",
   "execution_count": 166,
   "id": "74a7dce8",
   "metadata": {},
   "outputs": [
    {
     "data": {
      "text/html": [
       "<div>\n",
       "<style scoped>\n",
       "    .dataframe tbody tr th:only-of-type {\n",
       "        vertical-align: middle;\n",
       "    }\n",
       "\n",
       "    .dataframe tbody tr th {\n",
       "        vertical-align: top;\n",
       "    }\n",
       "\n",
       "    .dataframe thead th {\n",
       "        text-align: right;\n",
       "    }\n",
       "</style>\n",
       "<table border=\"1\" class=\"dataframe\">\n",
       "  <thead>\n",
       "    <tr style=\"text-align: right;\">\n",
       "      <th>Survived</th>\n",
       "      <th>Not Survived</th>\n",
       "      <th>Survived</th>\n",
       "    </tr>\n",
       "    <tr>\n",
       "      <th>Embarked</th>\n",
       "      <th></th>\n",
       "      <th></th>\n",
       "    </tr>\n",
       "  </thead>\n",
       "  <tbody>\n",
       "    <tr>\n",
       "      <th>Cherbourg</th>\n",
       "      <td>75</td>\n",
       "      <td>93</td>\n",
       "    </tr>\n",
       "    <tr>\n",
       "      <th>Queenstown</th>\n",
       "      <td>47</td>\n",
       "      <td>30</td>\n",
       "    </tr>\n",
       "    <tr>\n",
       "      <th>Southampton</th>\n",
       "      <td>427</td>\n",
       "      <td>217</td>\n",
       "    </tr>\n",
       "  </tbody>\n",
       "</table>\n",
       "</div>"
      ],
      "text/plain": [
       "Survived     Not Survived  Survived\n",
       "Embarked                           \n",
       "Cherbourg              75        93\n",
       "Queenstown             47        30\n",
       "Southampton           427       217"
      ]
     },
     "execution_count": 166,
     "metadata": {},
     "output_type": "execute_result"
    }
   ],
   "source": [
    "def condition(x):\n",
    "    if x == \"C\":\n",
    "        return \"Cherbourg\"\n",
    "    elif x == \"Q\":\n",
    "        return \"Queenstown\"\n",
    "    elif x == \"S\":\n",
    "        return \"Southampton\"\n",
    "    \n",
    "crosstab = pd.crosstab(data[\"Embarked\"].apply(condition), data[\"Survived\"].apply(lambda x: \"Not Survived\" if x == 0 else \"Survived\"))\n",
    "crosstab"
   ]
  },
  {
   "cell_type": "markdown",
   "id": "ca0ba945",
   "metadata": {},
   "source": [
    "#### 2. Create Null and Alternate Hypothesis "
   ]
  },
  {
   "cell_type": "markdown",
   "id": "7daff75e",
   "metadata": {},
   "source": [
    "$N_0 = $ Embarked location and survival are independent variables\n",
    "\n",
    "$N_A = $ There's a significant association between embarked location and survival"
   ]
  },
  {
   "cell_type": "markdown",
   "id": "4c1d916b",
   "metadata": {},
   "source": [
    "#### 3. Perform Appropriate Hypothesis Test and Calculate P-Value"
   ]
  },
  {
   "cell_type": "code",
   "execution_count": 167,
   "id": "233113b9",
   "metadata": {},
   "outputs": [
    {
     "data": {
      "text/plain": [
       "Chi2ContingencyResult(statistic=26.48914983923762, pvalue=1.769922284120912e-06, dof=2, expected_freq=array([[103.7480315,  64.2519685],\n",
       "       [ 47.5511811,  29.4488189],\n",
       "       [397.7007874, 246.2992126]]))"
      ]
     },
     "execution_count": 167,
     "metadata": {},
     "output_type": "execute_result"
    }
   ],
   "source": [
    "scipy.stats.chi2_contingency(crosstab)"
   ]
  },
  {
   "cell_type": "markdown",
   "id": "cb4da4dd",
   "metadata": {},
   "source": [
    "#### 4. Interpret Results "
   ]
  },
  {
   "cell_type": "markdown",
   "id": "9182e982",
   "metadata": {},
   "source": [
    "p-value 1.77e-06 < alpha = .01\n",
    "There is enough evidence to reject the null hypothesis. That means there is a significant association between embarked location and survival.\n",
    "Cherbourg was more liekly to survive while Southampton was more likely to not survive."
   ]
  },
  {
   "cell_type": "markdown",
   "id": "f98a211e",
   "metadata": {},
   "source": [
    "## Part 4: Hypothesis Testing with Numeric Variables"
   ]
  },
  {
   "cell_type": "markdown",
   "id": "9d59585e",
   "metadata": {},
   "source": [
    "### A. Surviving and Age (Partial Example)\n",
    "#### 1. Understand the distribution of the two populations (Normal or Not Normal)\n",
    "\n",
    "The distributions are plotted for you below in this partial example. As shown by the graphs below, distribution of age for both groups (survived and not survived) is found to be approximately normal.\n",
    "\n",
    "Hint: Notice that there are missing values for age and you will have to handle this before performing hypothesis tests!"
   ]
  },
  {
   "cell_type": "code",
   "execution_count": 168,
   "id": "26ea622a",
   "metadata": {},
   "outputs": [
    {
     "data": {
      "text/plain": [
       "Text(0.5, 1.0, 'Histogram of Age of People who Survived')"
      ]
     },
     "execution_count": 168,
     "metadata": {},
     "output_type": "execute_result"
    },
    {
     "data": {
      "image/png": "[encoded data removed]",
      "text/plain": [
       "<Figure size 640x480 with 1 Axes>"
      ]
     },
     "metadata": {},
     "output_type": "display_data"
    }
   ],
   "source": [
    "# previously filled in NaN values in age column with mean age\n",
    "survived = data.loc[data[\"Survived\"] == 1]\n",
    "no_survived = data.loc[data[\"Survived\"] == 0]\n",
    "ax = survived[\"Age\"].hist()\n",
    "ax.set_xlabel(\"Age\")\n",
    "ax.set_ylabel(\"Frequency\")\n",
    "ax.set_title(\"Histogram of Age of People who Survived\")"
   ]
  },
  {
   "cell_type": "code",
   "execution_count": 169,
   "id": "bb1191be",
   "metadata": {},
   "outputs": [
    {
     "data": {
      "text/plain": [
       "Text(0.5, 1.0, 'Histogram of Age of People who did not Survived')"
      ]
     },
     "execution_count": 169,
     "metadata": {},
     "output_type": "execute_result"
    },
    {
     "data": {
      "image/png": "[encoded data removed]",
      "text/plain": [
       "<Figure size 640x480 with 1 Axes>"
      ]
     },
     "metadata": {},
     "output_type": "display_data"
    }
   ],
   "source": [
    "ax = no_survived[\"Age\"].hist()\n",
    "ax.set_xlabel(\"Age\")\n",
    "ax.set_ylabel(\"Frequency\")\n",
    "ax.set_title(\"Histogram of Age of People who did not Survived\")"
   ]
  },
  {
   "cell_type": "markdown",
   "id": "f0623891",
   "metadata": {},
   "source": [
    "#### 2. Create Null and Alternate Hypothesis "
   ]
  },
  {
   "cell_type": "markdown",
   "id": "dc819a42",
   "metadata": {},
   "source": [
    "- use 2 sample t test because assume approx normal but unknown population standard deviation\n",
    "\n",
    "$N_0 = $ survived mean age=not survived mean age\n",
    "\n",
    "$N_A = $ survived mean age ≠ not survived mean age"
   ]
  },
  {
   "cell_type": "markdown",
   "id": "b70fb7da",
   "metadata": {},
   "source": [
    "#### 3. Perform Appropriate Hypothesis Test and Calculate P-Value (Use the fact that the distribution is approximately normal to select your hypothesis test)"
   ]
  },
  {
   "cell_type": "code",
   "execution_count": 170,
   "id": "b11b9ce5",
   "metadata": {},
   "outputs": [
    {
     "data": {
      "text/plain": [
       "TtestResult(statistic=-2.0865831290305046, pvalue=0.037210278329285966, df=889.0)"
      ]
     },
     "execution_count": 170,
     "metadata": {},
     "output_type": "execute_result"
    }
   ],
   "source": [
    "scipy.stats.ttest_ind(np.array(survived[\"Age\"]), np.array(no_survived[\"Age\"]))"
   ]
  },
  {
   "cell_type": "markdown",
   "id": "46591992",
   "metadata": {},
   "source": [
    "#### 4. Interpret Results"
   ]
  },
  {
   "cell_type": "markdown",
   "id": "9bb87ed9",
   "metadata": {},
   "source": [
    "p-value = .037 > alpha = .01 \n",
    "\n",
    "Fail to reject the null hypothesis\n",
    "\n",
    "There is not significant evidence to reject the null hypothesis\n",
    "\n",
    "Do not have sufficient evidence to say that the mean age of survivors is different from the mean age of non-survivors."
   ]
  },
  {
   "cell_type": "markdown",
   "id": "ea0e4302",
   "metadata": {},
   "source": [
    "### B. Surviving and Fare\n",
    "#### 1. Understand the distribution of the two populations (Normal or Not Normal)\n",
    "Plot the distributions like in previous question. Use plots to determine normality."
   ]
  },
  {
   "cell_type": "code",
   "execution_count": 171,
   "id": "cfad2875",
   "metadata": {},
   "outputs": [
    {
     "data": {
      "text/plain": [
       "[]"
      ]
     },
     "execution_count": 171,
     "metadata": {},
     "output_type": "execute_result"
    },
    {
     "data": {
      "image/png": "[encoded data removed]",
      "text/plain": [
       "<Figure size 640x480 with 1 Axes>"
      ]
     },
     "metadata": {},
     "output_type": "display_data"
    }
   ],
   "source": [
    "survived = data.loc[data[\"Survived\"] == 1]\n",
    "no_survived = data.loc[data[\"Survived\"] == 0]\n",
    "ax = survived[\"Fare\"].hist()\n",
    "ax.set_xlabel(\"Fare\")\n",
    "ax.set_ylabel(\"Frequency\")\n",
    "ax.set_title(\"Histogram of Fare of People who Survived\")\n",
    "ax.plot()\n"
   ]
  },
  {
   "cell_type": "code",
   "execution_count": 172,
   "id": "9b8c1f8e",
   "metadata": {},
   "outputs": [
    {
     "data": {
      "text/plain": [
       "[]"
      ]
     },
     "execution_count": 172,
     "metadata": {},
     "output_type": "execute_result"
    },
    {
     "data": {
      "image/png": "[encoded data removed]",
      "text/plain": [
       "<Figure size 640x480 with 1 Axes>"
      ]
     },
     "metadata": {},
     "output_type": "display_data"
    }
   ],
   "source": [
    "ax = no_survived[\"Fare\"].hist()\n",
    "ax.set_title(\"Histogram of Fare of People who did not Survived\")\n",
    "ax.plot()"
   ]
  },
  {
   "cell_type": "markdown",
   "id": "d44866c5",
   "metadata": {},
   "source": [
    "#### 2. Create Null and Alternate Hypothesis "
   ]
  },
  {
   "cell_type": "markdown",
   "id": "009ce6e6",
   "metadata": {},
   "source": [
    "- use mann whitney u test because not normally distributed\n",
    "\n",
    "\n",
    "Null hypothesis: the two populations have identical distributions. \n",
    "\n",
    "Alternative hypothesis: the two populations have different medians, but otherwise are identical."
   ]
  },
  {
   "cell_type": "markdown",
   "id": "6cf580ae",
   "metadata": {},
   "source": [
    "#### 3. Perform Appropriate Hypothesis Test and Calculate P-Value (Use characteristics from distribution)"
   ]
  },
  {
   "cell_type": "code",
   "execution_count": 173,
   "id": "8d486a92",
   "metadata": {},
   "outputs": [
    {
     "data": {
      "text/plain": [
       "MannwhitneyuResult(statistic=129951.5, pvalue=4.553477179250237e-22)"
      ]
     },
     "execution_count": 173,
     "metadata": {},
     "output_type": "execute_result"
    }
   ],
   "source": [
    "scipy.stats.mannwhitneyu(np.array(survived[\"Fare\"]),np.array(no_survived[\"Fare\"]))"
   ]
  },
  {
   "cell_type": "markdown",
   "id": "42b6b7fe",
   "metadata": {},
   "source": [
    "#### 4. Interpret Results"
   ]
  },
  {
   "cell_type": "markdown",
   "id": "2bbbee84",
   "metadata": {},
   "source": [
    "p-value = 4.55 < alpha = .01 \n",
    "\n",
    "reject the null hypothesis\n",
    "\n",
    "There is significant evidence to reject the null hypothesis\n",
    "\n",
    "Have sufficient evidence to say the two populations have different medians"
   ]
  }
 ],
 "metadata": {
  "kernelspec": {
   "display_name": "Python 3",
   "language": "python",
   "name": "python3"
  },
  "language_info": {
   "codemirror_mode": {
    "name": "ipython",
    "version": 3
   },
   "file_extension": ".py",
   "mimetype": "text/x-python",
   "name": "python",
   "nbconvert_exporter": "python",
   "pygments_lexer": "ipython3",
   "version": "3.11.6"
  }
 },
 "nbformat": 4,
 "nbformat_minor": 5
}
